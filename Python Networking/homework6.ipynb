{
 "cells": [
  {
   "cell_type": "markdown",
   "id": "ae02ae56-67db-4e98-b095-5b86723b7b2e",
   "metadata": {},
   "source": [
    "Exercise 1: Write a while loop that starts at the last character in the string and\n",
    "works its way backwards to the first character in the string, printing each letter on\n",
    "a separate line, except backwards.\n",
    "Another way to write a traversal is with a for loop:\n",
    "\n"
   ]
  },
  {
   "cell_type": "code",
   "execution_count": null,
   "id": "ae01adc4-304b-44ce-a88f-2c71fe8eb12c",
   "metadata": {},
   "outputs": [],
   "source": [
    "#Python code goes here...."
   ]
  }
 ],
 "metadata": {
  "kernelspec": {
   "display_name": "Python 3 (ipykernel)",
   "language": "python",
   "name": "python3"
  },
  "language_info": {
   "codemirror_mode": {
    "name": "ipython",
    "version": 3
   },
   "file_extension": ".py",
   "mimetype": "text/x-python",
   "name": "python",
   "nbconvert_exporter": "python",
   "pygments_lexer": "ipython3",
   "version": "3.9.7"
  }
 },
 "nbformat": 4,
 "nbformat_minor": 5
}
