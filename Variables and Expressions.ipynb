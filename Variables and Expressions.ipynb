{
 "cells": [
  {
   "cell_type": "code",
   "execution_count": 5,
   "id": "ba4ffea6-561a-4cbd-98f2-cf478105bd56",
   "metadata": {},
   "outputs": [
    {
     "name": "stdin",
     "output_type": "stream",
     "text": [
      "air speed:  3\n"
     ]
    },
    {
     "data": {
      "text/plain": [
       "3"
      ]
     },
     "execution_count": 5,
     "metadata": {},
     "output_type": "execute_result"
    }
   ],
   "source": [
    "type(\"hello world\")\n",
    "prompt = \"air speed: \"\n",
    "speed = input(prompt)\n",
    "int(speed)"
   ]
  },
  {
   "cell_type": "code",
   "execution_count": 5,
   "id": "5c259a89-795b-439a-a9cf-379a08f62b80",
   "metadata": {},
   "outputs": [
    {
     "name": "stdout",
     "output_type": "stream",
     "text": [
      "3.141592653589793\n"
     ]
    }
   ],
   "source": [
    "import math\n",
    "print(math.pi)"
   ]
  },
  {
   "cell_type": "code",
   "execution_count": 12,
   "id": "ef5eaaa2-6e73-4191-afac-7a84b3f224a7",
   "metadata": {},
   "outputs": [
    {
     "name": "stdout",
     "output_type": "stream",
     "text": [
      "change purse has  268  pennies\n",
      "number of dollars:  2\n",
      "number of quarters:  2\n"
     ]
    }
   ],
   "source": [
    "pennies = 268\n",
    "print(\"change purse has \", pennies, \" pennies\")\n",
    "dollars = pennies//100\n",
    "print(\"number of dollars: \",dollars)\n",
    "\n",
    "pennies = pennies - dollars*100\n",
    "quarters = pennies // 25\n",
    "print(\"number of quarters: \",quarters)"
   ]
  },
  {
   "cell_type": "code",
   "execution_count": 21,
   "id": "bf3f240e-49f4-492a-af64-a4caa36851a3",
   "metadata": {},
   "outputs": [
    {
     "name": "stdout",
     "output_type": "stream",
     "text": [
      "how now brown cow \n"
     ]
    }
   ],
   "source": [
    "words = [\"how now brown cow\"]\n",
    "for w in words:\n",
    "    print(w + \" \",)"
   ]
  },
  {
   "cell_type": "code",
   "execution_count": 9,
   "id": "4873157b-8b19-4e99-9e1d-ec55e2a70aae",
   "metadata": {},
   "outputs": [
    {
     "name": "stdin",
     "output_type": "stream",
     "text": [
      "enter first operand:  3\n",
      "enter second operand:  5\n",
      "enter operator:  +\n"
     ]
    },
    {
     "name": "stdout",
     "output_type": "stream",
     "text": [
      "8\n"
     ]
    }
   ],
   "source": [
    "num1 = input(\"enter first operand: \")\n",
    "num2 = input(\"enter second operand: \")\n",
    "opr = input(\"enter operator: \")\n",
    "n = eval(num1 + opr + num2)\n",
    "print(n)"
   ]
  },
  {
   "cell_type": "code",
   "execution_count": 8,
   "id": "4469cecf-23b0-4a8c-bc3e-ed2e3b809dce",
   "metadata": {},
   "outputs": [
    {
     "name": "stdout",
     "output_type": "stream",
     "text": [
      "how\n",
      "now\n",
      "brown\n",
      "cow\n"
     ]
    }
   ],
   "source": [
    "words = [\"how\", \"now\", \"brown\",\"cow\"]\n",
    "for w in words:\n",
    "    print(w)"
   ]
  }
 ],
 "metadata": {
  "kernelspec": {
   "display_name": "Python 3 (ipykernel)",
   "language": "python",
   "name": "python3"
  },
  "language_info": {
   "codemirror_mode": {
    "name": "ipython",
    "version": 3
   },
   "file_extension": ".py",
   "mimetype": "text/x-python",
   "name": "python",
   "nbconvert_exporter": "python",
   "pygments_lexer": "ipython3",
   "version": "3.9.7"
  }
 },
 "nbformat": 4,
 "nbformat_minor": 5
}
