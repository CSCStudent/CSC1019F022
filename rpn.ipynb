{
 "cells": [
  {
   "cell_type": "code",
   "execution_count": 1,
   "id": "ff20b245",
   "metadata": {},
   "outputs": [
    {
     "name": "stdout",
     "output_type": "stream",
     "text": [
      "enter RPN expression: 3 5 + 6 *\n",
      "<class 'list'>\n",
      "['3', '5', '+', '6', '*']\n",
      "3 5 + = 8\n",
      "8 6 * = 48\n"
     ]
    }
   ],
   "source": [
    "\"\"\"Implements the parsing and processing of a postfix notation <RPN> \"\"\"\n",
    "\n",
    "# convert initial post-fix expression into a list of terms\n",
    "line = input(\"enter RPN expression: \").split(\":\")\n",
    "print(type(line))\n",
    "print(line)\n",
    "if len(line) < 3:\n",
    "  print(\"Improper RPN input!\") \n",
    "else:\n",
    "  num1 = int(line.pop(0))\n",
    "  num2 = int(line.pop(0))\n",
    "\n",
    "  # get operator for operands\n",
    "  operator = line.pop(0)\n",
    "  \n",
    "  while True:\n",
    "    \n",
    "    if operator == '+':\n",
    "      result = num1 + num2\n",
    "      print(num1, num2, '+ =', result)\n",
    "\n",
    "    elif operator == '-':\n",
    "      result = num1 - num2\n",
    "      print(num1, num2, '- =', result)\n",
    "          \n",
    "    elif operator == '*':\n",
    "      result = num1 * num2\n",
    "      print(num1, num2, '* =', result)\n",
    "\n",
    "    elif operator == '/':\n",
    "      result = float(num1)/float(num2)\n",
    "      print(num1, num2, '/ =', result)\n",
    "\n",
    "    elif operator == '^':\n",
    "      result = num1 ** num2\n",
    "      print(num1, num2, '** =', result)\n",
    "\n",
    "    elif operator == \"//\":\n",
    "      result = num1 // num2\n",
    "      print(num1, num2, '// =', result)\n",
    "\n",
    "    elif operator == '%':\n",
    "      result = num1 % num2\n",
    "      print(num1, num2, '%', '=', result)\n",
    "      \n",
    "    else:\n",
    "      print(\"Improper RPN input!\")\n",
    "      break\n",
    "    \n",
    "    #check for more terms\n",
    "    if len(line) < 2:\n",
    "      break  #no, then we're done\n",
    "    \n",
    "    #yes, iterate with next term and operator\n",
    "    num1 = result\n",
    "    num2 = int(line.pop(0))\n",
    "    operator = line.pop(0)"
   ]
  },
  {
   "cell_type": "code",
   "execution_count": 2,
   "id": "a850d67d",
   "metadata": {},
   "outputs": [
    {
     "name": "stdout",
     "output_type": "stream",
     "text": [
      "8\n"
     ]
    }
   ],
   "source": [
    "x = eval(\"3 + 5\")\n",
    "print(x)"
   ]
  },
  {
   "cell_type": "code",
   "execution_count": null,
   "id": "26f9cb70",
   "metadata": {},
   "outputs": [],
   "source": []
  }
 ],
 "metadata": {
  "kernelspec": {
   "display_name": "Python 3 (ipykernel)",
   "language": "python",
   "name": "python3"
  },
  "language_info": {
   "codemirror_mode": {
    "name": "ipython",
    "version": 3
   },
   "file_extension": ".py",
   "mimetype": "text/x-python",
   "name": "python",
   "nbconvert_exporter": "python",
   "pygments_lexer": "ipython3",
   "version": "3.9.12"
  }
 },
 "nbformat": 4,
 "nbformat_minor": 5
}
