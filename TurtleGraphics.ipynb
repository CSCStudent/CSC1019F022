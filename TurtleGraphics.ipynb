{
 "cells": [
  {
   "cell_type": "markdown",
   "id": "b6c1b8da-7ee9-4aba-9c0f-ce7180666bfe",
   "metadata": {},
   "source": [
    "Turtle graphics is a popular way for introducing programming to kids. It was part of the original Logo programming language developed by Wally Feurzeig, Seymour Papert and Cynthia Solomon in 1967.\n",
    "\n",
    "Imagine a robotic turtle starting at (0, 0) in the x-y plane. After an import turtle, give it the command turtle.forward(15), and it moves (on-screen!) 15 pixels in the direction it is facing, drawing a line as it moves. Give it the command turtle.right(25), and it rotates in-place 25 degrees clockwise.\n",
    "\n",
    "Information about the turtle module's API can be found at: https://docs.python.org/3/library/turtle.html#turtle.showturtle\n"
   ]
  },
  {
   "cell_type": "code",
   "execution_count": null,
   "id": "449bbe7e-3897-43e8-8955-0304c00da046",
   "metadata": {},
   "outputs": [],
   "source": [
    "from turtle import *\n",
    "color('red', 'yellow')\n",
    "begin_fill()\n",
    "while True:\n",
    "    forward(200)\n",
    "    left(170)\n",
    "    if abs(pos()) < 1:\n",
    "        break\n",
    "end_fill()\n",
    "done()"
   ]
  },
  {
   "cell_type": "code",
   "execution_count": 1,
   "id": "409ec882-9ee9-4a84-85c0-a68b78e382e7",
   "metadata": {},
   "outputs": [
    {
     "name": "stderr",
     "output_type": "stream",
     "text": [
      "Exception in Tkinter callback\n",
      "Traceback (most recent call last):\n",
      "  File \"C:\\Users\\bobgi\\anaconda3\\lib\\tkinter\\__init__.py\", line 1889, in __call__\n",
      "    try:\n",
      "KeyboardInterrupt\n"
     ]
    }
   ],
   "source": [
    "from turtle import *\n",
    "\n",
    "myTurtle = Turtle()\n",
    "myTurtle.color(\"red\")\n",
    "\n",
    "# #Swiss Cross\n",
    "myTurtle.penup()\n",
    "myTurtle.backward(150)\n",
    "myTurtle.pendown()\n",
    "myTurtle.forward(100)\n",
    "myTurtle.left(90)\n",
    "myTurtle.forward(100)\n",
    "myTurtle.right(90)\n",
    "myTurtle.forward(100)\n",
    "myTurtle.right(90)\n",
    "myTurtle.forward(100)\n",
    "myTurtle.left(90)\n",
    "myTurtle.forward(100)\n",
    "myTurtle.right(90)\n",
    "myTurtle.forward(100)\n",
    "myTurtle.right(90)\n",
    "myTurtle.forward(100)\n",
    "myTurtle.left(90)\n",
    "myTurtle.forward(100)\n",
    "myTurtle.right(90)\n",
    "myTurtle.forward(100)\n",
    "myTurtle.right(90)\n",
    "myTurtle.forward(100)\n",
    "myTurtle.left(90)\n",
    "myTurtle.forward(100)\n",
    "myTurtle.right(90)\n",
    "myTurtle.forward(100)\n",
    "\n",
    "done()"
   ]
  },
  {
   "cell_type": "code",
   "execution_count": null,
   "id": "161ed405-f110-4de9-8cda-247c51eb6b16",
   "metadata": {},
   "outputs": [],
   "source": []
  }
 ],
 "metadata": {
  "kernelspec": {
   "display_name": "Python 3 (ipykernel)",
   "language": "python",
   "name": "python3"
  },
  "language_info": {
   "codemirror_mode": {
    "name": "ipython",
    "version": 3
   },
   "file_extension": ".py",
   "mimetype": "text/x-python",
   "name": "python",
   "nbconvert_exporter": "python",
   "pygments_lexer": "ipython3",
   "version": "3.9.7"
  }
 },
 "nbformat": 4,
 "nbformat_minor": 5
}
