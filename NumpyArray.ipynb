{
 "cells": [
  {
   "cell_type": "code",
   "execution_count": 7,
   "id": "e0c99c7d-39ff-4b04-be8e-ded637506f23",
   "metadata": {},
   "outputs": [
    {
     "name": "stdout",
     "output_type": "stream",
     "text": [
      "[1 2 3 4 5]\n",
      "3\n",
      "[ 2  4  6  8 10]\n"
     ]
    }
   ],
   "source": [
    "from numpy import *                    #import numeric\n",
    "\n",
    "a = array((1,2,3,4,5))                 #create an array\n",
    "print(a)                                      #display the array\n",
    "\n",
    "print(a[2])                                 #index into the array\n",
    "\n",
    "print(a*2)                                    #new array with twiced values"
   ]
  },
  {
   "cell_type": "code",
   "execution_count": 9,
   "id": "4bbb0892-abf1-4dba-b4f9-f9089e9566f1",
   "metadata": {},
   "outputs": [
    {
     "name": "stdout",
     "output_type": "stream",
     "text": [
      "5\n",
      "[3 4 5]\n",
      "[1 2 3]\n",
      "[4 6 8]\n",
      "[4 6 8]\n"
     ]
    }
   ],
   "source": [
    "print(len(a))                                 #get array size\n",
    "print(a[2:])                                  #elements 2 and up\n",
    "\n",
    "print(a[:-2])                                 #all except last 2\n",
    "\n",
    "b = a[2:] + a[:-2]\n",
    "print(b)                         #add first and last\n",
    "\n",
    "b = array((1,2,3)) + array((3,4,5))          #add arrays of wrong sizes\n",
    "print(b)"
   ]
  }
 ],
 "metadata": {
  "kernelspec": {
   "display_name": "Python 3 (ipykernel)",
   "language": "python",
   "name": "python3"
  },
  "language_info": {
   "codemirror_mode": {
    "name": "ipython",
    "version": 3
   },
   "file_extension": ".py",
   "mimetype": "text/x-python",
   "name": "python",
   "nbconvert_exporter": "python",
   "pygments_lexer": "ipython3",
   "version": "3.9.7"
  }
 },
 "nbformat": 4,
 "nbformat_minor": 5
}
