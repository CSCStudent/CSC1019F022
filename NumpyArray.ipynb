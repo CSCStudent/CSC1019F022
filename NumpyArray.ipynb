{
 "cells": [
  {
   "cell_type": "markdown",
   "id": "3e89f603-82a6-4ba5-b1b4-c6108f9a2dda",
   "metadata": {},
   "source": [
    "The NumPy module gives us a new data type, the array. This object holds an array of fixed size, and all values inside are of the same type. The arrays can also be multidimensional, which is how we will use them with images. There's a bit more to it than this, but it is enough to get us started."
   ]
  },
  {
   "cell_type": "code",
   "execution_count": 20,
   "id": "e0c99c7d-39ff-4b04-be8e-ded637506f23",
   "metadata": {},
   "outputs": [
    {
     "name": "stdout",
     "output_type": "stream",
     "text": [
      "[1 2 3 4 5]\n",
      "3\n",
      "[ 2  4  6  8 10]\n"
     ]
    }
   ],
   "source": [
    "from numpy import *                    #import numeric\n",
    "\n",
    "a = array((1,2,3,4,5))                 #create an array\n",
    "print(a)                                      #display the array\n",
    "\n",
    "print(a[2])                                 #index into the array\n",
    "\n",
    "print(a*2)                                    #new array with twiced values"
   ]
  },
  {
   "cell_type": "code",
   "execution_count": 16,
   "id": "4bbb0892-abf1-4dba-b4f9-f9089e9566f1",
   "metadata": {},
   "outputs": [
    {
     "name": "stdout",
     "output_type": "stream",
     "text": [
      "5\n",
      "[10  4  5]\n",
      "[ 1  3 10]\n",
      "[11  7 15]\n",
      "[4 6 8]\n"
     ]
    }
   ],
   "source": [
    "print(len(a))                                 #get array size\n",
    "print(a[2:])                                  #elements 2 and up\n",
    "\n",
    "print(a[:-2])                                 #all except last 2\n",
    "\n",
    "b = a[2:] + a[:-2]\n",
    "print(b)                         #add first and last\n",
    "\n",
    "b = array((1,2,3)) + array((3,4,5))          #add arrays of wrong sizes\n",
    "print(b)"
   ]
  },
  {
   "cell_type": "markdown",
   "id": "c48424ae-b944-4b99-8e89-ded0a2ceb944",
   "metadata": {},
   "source": [
    "It is very important to know that the new arrays created from slicing the original all reference the same values. So changing the values in a slice also changes the original values. It is important how this is done."
   ]
  },
  {
   "cell_type": "code",
   "execution_count": 21,
   "id": "d2b41aef-195a-429f-894f-2a68fd451dc3",
   "metadata": {},
   "outputs": [
    {
     "name": "stdout",
     "output_type": "stream",
     "text": [
      "[1 2 3 4 5]\n",
      "[2 3]\n",
      "[  1 333  44   4   5] [333  44]\n",
      "[  1 333  44   4   5]\n",
      "[1 0 0 0 5]\n",
      "[  1 333  44   4   5]\n"
     ]
    }
   ],
   "source": [
    "print(a)\n",
    "aa = a[1:3]                            #slice middle 2 elements -- creates alias\n",
    "print(aa)                              #show the slice\n",
    "\n",
    "a[1] = 333\n",
    "aa[1] = 44                             #chance value in slice\n",
    "print(a, aa)                           #show change in original\n",
    "\n",
    "aaa = array(a)                         #create separate array object\n",
    "print(aaa )                            #show copy\n",
    "\n",
    "aaa[1:4] = 0                           #set middle values to 0\n",
    "print(aaa )                            #show copy\n",
    "\n",
    "print(a )                         "
   ]
  },
  {
   "cell_type": "markdown",
   "id": "f216d5df-8aaf-48ed-8d97-8a655dc765f2",
   "metadata": {},
   "source": [
    "Now we will look at small arrays with two dimensions. Don't be too worried, getting started it is the same as having a two dimensional tuple (a tuple inside a tuple). Let's get started with two dimensional arrays."
   ]
  },
  {
   "cell_type": "code",
   "execution_count": 22,
   "id": "f5598cc2-4c52-4db8-a1d0-18886beaef5e",
   "metadata": {},
   "outputs": [
    {
     "name": "stdout",
     "output_type": "stream",
     "text": [
      "(1, 2, 3) (3, 4, 5)\n",
      "[[1 2 3]\n",
      " [3 4 5]]\n",
      "[[1 2 3]\n",
      " [3 4 5]]\n",
      "[[1 2]\n",
      " [3 4]\n",
      " [5 6]]\n"
     ]
    }
   ],
   "source": [
    "row1 = (1,2,3)                         #create a tuple of vals\n",
    "row2 = (3,4,5)                         #another tuple\n",
    "\n",
    "print(row1,row2)                       #show as a 2D tuple\n",
    "\n",
    "b = array((row1, row2))                #create a 2D array\n",
    "print(b)                               #show the array\n",
    "print(array([[1, 2, 3],[3, 4, 5]]))\n",
    "\n",
    "print(array(((1,2),(3,4),(5,6))))          #show a new 2D array"
   ]
  },
  {
   "cell_type": "code",
   "execution_count": 23,
   "id": "37ad4930-8118-40de-9520-1efe0e6dd405",
   "metadata": {},
   "outputs": [
    {
     "name": "stdout",
     "output_type": "stream",
     "text": [
      "[[1 2 3]\n",
      " [3 4 5]]\n",
      "2\n",
      "[3 4 5]\n",
      "[3 4 5]\n",
      "[3 5]\n",
      "[[1 2]\n",
      " [3 4]]\n"
     ]
    }
   ],
   "source": [
    "print(b )                                     #show our array from above\n",
    "\n",
    "print(b[0,1])                                #index a single value\n",
    "\n",
    "print(b[1,:])                                 #slice second row\n",
    "\n",
    "print(b[1])                                   #slice second row (same as above)\n",
    "\n",
    "print(b[:,2])                                 #slice last column\n",
    "\n",
    "print(b[:,:2]) "
   ]
  }
 ],
 "metadata": {
  "kernelspec": {
   "display_name": "Python 3 (ipykernel)",
   "language": "python",
   "name": "python3"
  },
  "language_info": {
   "codemirror_mode": {
    "name": "ipython",
    "version": 3
   },
   "file_extension": ".py",
   "mimetype": "text/x-python",
   "name": "python",
   "nbconvert_exporter": "python",
   "pygments_lexer": "ipython3",
   "version": "3.9.7"
  }
 },
 "nbformat": 4,
 "nbformat_minor": 5
}
