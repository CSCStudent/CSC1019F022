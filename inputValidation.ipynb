{
 "cells": [
  {
   "cell_type": "code",
   "execution_count": null,
   "id": "3ce05db3",
   "metadata": {
    "collapsed": true,
    "jupyter": {
     "outputs_hidden": true
    }
   },
   "outputs": [],
   "source": [
    "num1 = \"123ab4\"\n",
    "\n",
    "for letter in num1:\n",
    "    if letter >= '0' and letter <= '9':\n",
    "        print(\"numeric input: \" + letter)\n",
    "    else:\n",
    "        print(\"non-numeric input: \" + letter)"
   ]
  },
  {
   "cell_type": "markdown",
   "id": "05685926-73be-43fd-805a-e0f3bb991cc3",
   "metadata": {},
   "source": [
    "## Reverse Polish Notation\n",
    "\n",
    "Reverse Polish notation (RPN), also known as Polish postfix notation or simply postfix notation, \n",
    "is a mathematical notation in which operators follow their operands. This notation is an \n",
    "alternative notation to the standard infix notation in which operators are located between \n",
    "their operands or to the prefix Polish notation (PN), in which operators precede their operands.\n",
    "\n",
    "Note that the description “Polish” refers to the nationality of logician Jan Łukasiewicz, who \n",
    "invented Polish notation in 1924.  For more info, see: http://blog.reverberate.org/2013/07/ll-and-lr-parsing-demystified.html"
   ]
  },
  {
   "cell_type": "code",
   "execution_count": 19,
   "id": "635d1059-d97d-4b56-951b-fcf0c60f603c",
   "metadata": {
    "tags": []
   },
   "outputs": [
    {
     "name": "stdin",
     "output_type": "stream",
     "text": [
      "enter first number or <CR>:  8\n",
      "enter second number or <CR>:  4\n",
      "enter operator or <CR>:  //\n"
     ]
    },
    {
     "name": "stdout",
     "output_type": "stream",
     "text": [
      "2\n"
     ]
    },
    {
     "name": "stdin",
     "output_type": "stream",
     "text": [
      "enter first number or <CR>:  \n"
     ]
    },
    {
     "name": "stdout",
     "output_type": "stream",
     "text": [
      "thank you!\n"
     ]
    }
   ],
   "source": [
    "# parsing postfix expression\n",
    "def validateInput(parm):\n",
    "    validOps = ['+', '-', '*', '/', \"//\"]\n",
    "    \n",
    "    #check that user has entered a valid excpression\n",
    "    try:     \n",
    "        # is it a null string?\n",
    "        if parm == \"\":\n",
    "            raise Exception()  \n",
    "            \n",
    "        # is it a valid operator?\n",
    "        elif parm in validOps:\n",
    "            return parm\n",
    "        \n",
    "        else:\n",
    "            # is it a valid number?\n",
    "            int(parm)\n",
    "            return parm\n",
    "        \n",
    "    except ValueError as e:\n",
    "        raise ValueError(\"please enter a valid expression: \" + parm)\n",
    "\n",
    "def main():\n",
    "    try:\n",
    "        while True:\n",
    "            num1 = input(\"enter first number or <CR>: \")\n",
    "            validateInput(num1)\n",
    "            num2 = input(\"enter second number or <CR>: \")\n",
    "            validateInput(num2)\n",
    "            oper = input(\"enter operator or <CR>: \")\n",
    "            validateInput(oper)\n",
    "\n",
    "            print(eval(num1+oper+num2))\n",
    "    except ValueError as e:\n",
    "        print(\"Input error detected: \", e)\n",
    "    except Exception:\n",
    "        print(\"thank you!\")\n",
    "\n",
    "main()\n",
    "    "
   ]
  },
  {
   "cell_type": "code",
   "execution_count": 1,
   "id": "4836a0e0-0b11-44d6-9876-a3adaeaecd25",
   "metadata": {},
   "outputs": [
    {
     "name": "stdin",
     "output_type": "stream",
     "text": [
      "enter RPN expression:  3 5 + 2 *\n"
     ]
    },
    {
     "name": "stdout",
     "output_type": "stream",
     "text": [
      "3 5 +  = 8\n",
      "8 2 *  = 16\n"
     ]
    }
   ],
   "source": [
    "\"\"\"Implements the parsing and processing of a postfix notation <RPN> \"\"\"\n",
    "\n",
    "import sys\n",
    "\n",
    "def validateExp(num1, num2, opr):\n",
    "  if not num1.isdigit():\n",
    "    print(f\"invalid operand: \\\"{num1}\\\"\")\n",
    "    raise Exception(f\"invalid operand: \\\"{num1}\\\"\")\n",
    "    \n",
    "  if not num2.isdigit():\n",
    "    print(f\"invalid operand: \\\"{num2}\\\"\")\n",
    "    raise Exception(f\"invalid operand: \\\"{num2}\\\"\")\n",
    "    \n",
    "  if not opr in [\"+\",\"-\",\"*\", \"/\", \"//\"]:\n",
    "    print(f\"invalid operator: \\\"{opr}\\\"\")\n",
    "    raise Exception(f\"invalid operator: \\\"{opr}\\\"\")\n",
    "        \n",
    "  \n",
    "# convert initial post-fix expression into a list of terms\n",
    "line = input(\"enter RPN expression: \").split()\n",
    "if len(line) < 3:\n",
    "  print(\"Improper RPN input!\") \n",
    "else:\n",
    "  num1 = line.pop(0)\n",
    "  num2 = line.pop(0)\n",
    "\n",
    "  # get operator for operands\n",
    "  operator = line.pop(0)\n",
    "  \n",
    "  while True:     \n",
    "  \n",
    "    validateExp(num1, num2, operator)\n",
    "    result = eval(num1+operator+num2)\n",
    "    print(num1, num2, operator, ' =', result)\n",
    "    \n",
    "    #check for more terms\n",
    "    if len(line) < 2:\n",
    "      break  #no, then we're done\n",
    "    \n",
    "    #yes, iterate with next term and operator\n",
    "    num1 = str(result)\n",
    "    num2 = line.pop(0)\n",
    "    operator = line.pop(0)"
   ]
  }
 ],
 "metadata": {
  "hide_input": false,
  "kernelspec": {
   "display_name": "Python 3 (ipykernel)",
   "language": "python",
   "name": "python3"
  },
  "language_info": {
   "codemirror_mode": {
    "name": "ipython",
    "version": 3
   },
   "file_extension": ".py",
   "mimetype": "text/x-python",
   "name": "python",
   "nbconvert_exporter": "python",
   "pygments_lexer": "ipython3",
   "version": "3.9.12"
  }
 },
 "nbformat": 4,
 "nbformat_minor": 5
}
