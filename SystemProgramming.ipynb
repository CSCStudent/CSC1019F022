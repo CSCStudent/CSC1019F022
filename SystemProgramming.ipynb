{
 "cells": [
  {
   "cell_type": "markdown",
   "id": "0453c5bc-ae6a-48b7-adc5-0be8a725f896",
   "metadata": {},
   "source": [
    "## Source code: Lib/os.py"
   ]
  },
  {
   "cell_type": "markdown",
   "id": "ba3f8357-3023-4b6d-89c3-85ec2af7ef25",
   "metadata": {},
   "source": [
    "This module provides a portable way of using operating system dependent functionality. If you just want to read or write a file see open(), if you want to manipulate paths, see the os.path module, and if you want to read all the lines in all the files on the command line see the fileinput module. For creating temporary files and directories see the tempfile module, and for high-level file and directory handling see the shutil module."
   ]
  },
  {
   "cell_type": "code",
   "execution_count": 25,
   "id": "98b776c5-a609-4b87-a109-7e273ac1da3f",
   "metadata": {},
   "outputs": [
    {
     "name": "stdout",
     "output_type": "stream",
     "text": [
      "nt\n",
      "win32\n",
      "<module 'ntpath' from 'C:\\\\Users\\\\bobgi\\\\anaconda3\\\\lib\\\\ntpath.py'>\n",
      "C:\\Users\\bobgi\\CSC1019 Python\n"
     ]
    }
   ],
   "source": [
    "import os\n",
    "\n",
    "print(os.name)\n",
    "print(os.sys.platform)\n",
    "print(os.path)\n",
    "\n",
    "print(os.getcwd())"
   ]
  },
  {
   "cell_type": "markdown",
   "id": "1759d090-91eb-4350-b6af-0cdf7bcca674",
   "metadata": {},
   "source": [
    "## File Names, Command Line Arguments, and Environment Variables\n",
    "\n",
    "In Python, file names, command line arguments, and environment variables are represented using the string type. On some systems, decoding these strings to and from bytes is necessary before passing them to the operating system. Python uses the filesystem encoding and error handler to perform this conversion (see sys.getfilesystemencoding())."
   ]
  },
  {
   "cell_type": "code",
   "execution_count": 8,
   "id": "7485461e-a62a-4d7b-b98d-75fe7aefe6f1",
   "metadata": {},
   "outputs": [
    {
     "name": "stdout",
     "output_type": "stream",
     "text": [
      "utf-8\n"
     ]
    }
   ],
   "source": [
    "import os\n",
    "\n",
    "print(os.sys.getfilesystemencoding())"
   ]
  },
  {
   "cell_type": "code",
   "execution_count": 22,
   "id": "82350623-b8e3-4c91-890a-776c0ec594ef",
   "metadata": {},
   "outputs": [
    {
     "name": "stdout",
     "output_type": "stream",
     "text": [
      "ALLUSERSPROFILE                C:\\ProgramData                \n",
      "APPDATA                        C:\\Users\\bobgi\\AppData\\Roaming\n",
      "CHOCOLATEYINSTALL              C:\\ProgramData\\chocolatey     \n",
      "CHOCOLATEYLASTPATHUPDATE       132683508710908755            \n",
      "COMMONPROGRAMFILES             C:\\Program Files\\Common Files \n",
      "COMMONPROGRAMFILES(X86)        C:\\Program Files (x86)\\Common Files\n",
      "COMMONPROGRAMW6432             C:\\Program Files\\Common Files \n",
      "COMPUTERNAME                   JAZZ                          \n",
      "COMSPEC                        C:\\Windows\\system32\\cmd.exe   \n",
      "CONDA_DEFAULT_ENV              base                          \n",
      "CONDA_EXE                      C:\\Users\\bobgi\\anaconda3\\Scripts\\conda.exe\n",
      "CONDA_PROMPT_MODIFIER          (base)                        \n",
      "CONDA_PYTHON_EXE               C:\\Users\\bobgi\\anaconda3\\python.exe\n",
      "CONDA_SHLVL                    1                             \n",
      "DRIVERDATA                     C:\\Windows\\System32\\Drivers\\DriverData\n",
      "HOMEDRIVE                      C:                            \n",
      "HOMEPATH                       \\Users\\bobgi                  \n",
      "LOCALAPPDATA                   C:\\Users\\bobgi\\AppData\\Local  \n",
      "LOGONSERVER                    \\\\JAZZ                        \n",
      "NUMBER_OF_PROCESSORS           4                             \n",
      "ONEDRIVE                       C:\\Users\\bobgi\\OneDrive       \n",
      "ONEDRIVECONSUMER               C:\\Users\\bobgi\\OneDrive       \n",
      "OS                             Windows_NT                    \n",
      "PASSWORD                       1951Kicsilan$                 \n",
      "PATH                           C:\\Users\\bobgi\\anaconda3;C:\\Users\\bobgi\\anaconda3\\Library\\mingw-w64\\bin;C:\\Users\\bobgi\\anaconda3\\Library\\usr\\bin;C:\\Users\\bobgi\\anaconda3\\Library\\bin;C:\\Users\\bobgi\\anaconda3\\Scripts;C:\\Users\\bobgi\\anaconda3\\bin;C:\\Users\\bobgi\\anaconda3\\condabin;C:\\Users\\bobgi\\anaconda3;C:\\Users\\bobgi\\anaconda3\\Library\\mingw-w64\\bin;C:\\Users\\bobgi\\anaconda3\\Library\\usr\\bin;C:\\Users\\bobgi\\anaconda3\\Library\\bin;C:\\Users\\bobgi\\anaconda3\\Scripts;C:\\Python39\\Scripts;C:\\Python39;C:\\Program Files\\Common Files\\Oracle\\Java\\javapath;C:\\Windows\\system32;C:\\Windows;C:\\Windows\\System32\\Wbem;C:\\Windows\\System32\\WindowsPowerShell\\v1.0;C:\\Windows\\System32\\OpenSSH;C:\\Program Files\\nodejs;C:\\ProgramData\\chocolatey\\bin;C:\\Program Files\\Git\\cmd;C:\\Users\\bobgi\\anaconda3;C:\\Users\\bobgi\\anaconda3\\Library\\mingw-w64\\bin;C:\\Users\\bobgi\\anaconda3\\Library\\usr\\bin;C:\\Users\\bobgi\\anaconda3\\Library\\bin;C:\\Users\\bobgi\\anaconda3\\Scripts;C:\\Users\\bobgi\\AppData\\Local\\Microsoft\\WindowsApps;C:\\Users\\bobgi\\AppData\\Local\\Programs\\Microsoft VS Code\\bin;C:\\Users\\bobgi\\AppData\\Roaming\\npm\n",
      "PATHEXT                        .COM;.EXE;.BAT;.CMD;.VBS;.VBE;.JS;.JSE;.WSF;.WSH;.MSC\n",
      "PROCESSOR_ARCHITECTURE         AMD64                         \n",
      "PROCESSOR_IDENTIFIER           AMD64 Family 16 Model 2 Stepping 3, AuthenticAMD\n",
      "PROCESSOR_LEVEL                16                            \n",
      "PROCESSOR_REVISION             0203                          \n",
      "PROGRAMDATA                    C:\\ProgramData                \n",
      "PROGRAMFILES                   C:\\Program Files              \n",
      "PROGRAMFILES(X86)              C:\\Program Files (x86)        \n",
      "PROGRAMW6432                   C:\\Program Files              \n",
      "PROMPT                         (base) $P$G                   \n",
      "PSMODULEPATH                   C:\\Program Files\\WindowsPowerShell\\Modules;C:\\Windows\\system32\\WindowsPowerShell\\v1.0\\Modules\n",
      "PUBLIC                         C:\\Users\\Public               \n",
      "SESSIONNAME                    Console                       \n",
      "SYSTEMDRIVE                    C:                            \n",
      "SYSTEMROOT                     C:\\Windows                    \n",
      "TEMP                           C:\\Users\\bobgi\\AppData\\Local\\Temp\n",
      "TMP                            C:\\Users\\bobgi\\AppData\\Local\\Temp\n",
      "USERDOMAIN                     JAZZ                          \n",
      "USERDOMAIN_ROAMINGPROFILE      JAZZ                          \n",
      "USERNAME                       bobgi                         \n",
      "USERPROFILE                    C:\\Users\\bobgi                \n",
      "WINDIR                         C:\\Windows                    \n",
      "CONDA_PREFIX                   C:\\Users\\bobgi\\anaconda3      \n",
      "CONDA_ROOT                     C:\\Users\\bobgi\\anaconda3      \n",
      "PYDEVD_USE_FRAME_EVAL          NO                            \n",
      "JPY_INTERRUPT_EVENT            2604                          \n",
      "IPY_INTERRUPT_EVENT            2604                          \n",
      "JPY_PARENT_PID                 2872                          \n",
      "TERM                           xterm-color                   \n",
      "CLICOLOR                       1                             \n",
      "PAGER                          cat                           \n",
      "GIT_PAGER                      cat                           \n",
      "MPLBACKEND                     module://matplotlib_inline.backend_inline\n"
     ]
    }
   ],
   "source": [
    "import os\n",
    "env = os.environ\n",
    "for key in env:\n",
    "    print(\"{:<30}\".format(key), \"{:<30}\".format(env[key]))"
   ]
  },
  {
   "cell_type": "code",
   "execution_count": null,
   "id": "eae6b169-6026-48fa-aa23-2cec3d911cb2",
   "metadata": {},
   "outputs": [],
   "source": [
    "import os\n",
    "\n",
    "print(os.getlogin())"
   ]
  }
 ],
 "metadata": {
  "kernelspec": {
   "display_name": "Python 3 (ipykernel)",
   "language": "python",
   "name": "python3"
  },
  "language_info": {
   "codemirror_mode": {
    "name": "ipython",
    "version": 3
   },
   "file_extension": ".py",
   "mimetype": "text/x-python",
   "name": "python",
   "nbconvert_exporter": "python",
   "pygments_lexer": "ipython3",
   "version": "3.9.7"
  }
 },
 "nbformat": 4,
 "nbformat_minor": 5
}
