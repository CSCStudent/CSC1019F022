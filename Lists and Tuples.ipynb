{
 "cells": [
  {
   "cell_type": "markdown",
   "id": "f4c05939",
   "metadata": {},
   "source": [
    "## A list is a Sequence Type"
   ]
  },
  {
   "cell_type": "markdown",
   "id": "9c12dceb",
   "metadata": {},
   "source": [
    "A <b>sequence type</b> that represent orered sets of objects indexed by non-negative integers.\n",
    "\n",
    "Sometimes called a container — is simply an object that groups multiple elements into a single unit. Collections are used to store, retrieve, manipulate, and communicate aggregate data. \n"
   ]
  },
  {
   "cell_type": "markdown",
   "id": "5e7d6f9f",
   "metadata": {},
   "source": [
    "Are mutable.\n",
    "A sequence of arbitrary objects."
   ]
  },
  {
   "cell_type": "code",
   "execution_count": 3,
   "id": "fa3e9613",
   "metadata": {},
   "outputs": [
    {
     "name": "stdout",
     "output_type": "stream",
     "text": [
      "2160743562816\n",
      "['spam', 2.0, 5, [10, 20]]\n"
     ]
    }
   ],
   "source": [
    "myList = [\"spam\", 2.0, 5, [10,20]]\n",
    "print(id(myList))\n",
    "print(myList)"
   ]
  },
  {
   "cell_type": "markdown",
   "id": "6aa15406",
   "metadata": {},
   "source": [
    "## Lists are mutable"
   ]
  },
  {
   "cell_type": "code",
   "execution_count": 9,
   "id": "0d929261",
   "metadata": {},
   "outputs": [
    {
     "name": "stdout",
     "output_type": "stream",
     "text": [
      "2160743562816\n",
      "['33', 33, 5, [10, 33]]\n",
      "[10, 'hooray']\n"
     ]
    }
   ],
   "source": [
    "myList[0] = \"33\"\n",
    "print(id(myList))\n",
    "print(myList)\n",
    "myList[3][1] = \"hooray\"\n",
    "print(myList[3])"
   ]
  },
  {
   "cell_type": "code",
   "execution_count": 12,
   "id": "0271354f",
   "metadata": {},
   "outputs": [
    {
     "name": "stdout",
     "output_type": "stream",
     "text": [
      "2160743509504\n",
      "2160743559232\n"
     ]
    }
   ],
   "source": [
    "cheeses = ['Cheddar', 'Edam', 'Gouda']\n",
    "print(id(cheeses))\n",
    "\n",
    "cheeses = ['Swiss', 'Goat', 'Provolone']\n",
    "print(id(cheeses))"
   ]
  },
  {
   "cell_type": "markdown",
   "id": "931fc7ac",
   "metadata": {},
   "source": [
    "## Traversing a list"
   ]
  },
  {
   "cell_type": "code",
   "execution_count": 18,
   "id": "9f05e144",
   "metadata": {},
   "outputs": [
    {
     "name": "stdout",
     "output_type": "stream",
     "text": [
      "Swiss\n",
      "Goat\n",
      "Provolone\n",
      "Swiss\n",
      "Goat\n",
      "Provolone\n"
     ]
    }
   ],
   "source": [
    "for c in cheeses:\n",
    "    print(c)\n",
    "    \n",
    "for i in range(len(cheeses)): #0, 1, 2....left inclusive\n",
    "    print(cheeses[i])"
   ]
  },
  {
   "cell_type": "markdown",
   "id": "31e13010",
   "metadata": {},
   "source": [
    "## List operations"
   ]
  },
  {
   "cell_type": "code",
   "execution_count": 5,
   "id": "755a2efc",
   "metadata": {},
   "outputs": [
    {
     "name": "stdout",
     "output_type": "stream",
     "text": [
      "[1, 2, 3, 4, 5, 6]\n"
     ]
    }
   ],
   "source": [
    "# The + operator concatenates lists:\n",
    "a = [1, 2, 3]\n",
    "b = [4, 5, 6]\n",
    "c = a + b\n",
    "print(c)"
   ]
  },
  {
   "cell_type": "code",
   "execution_count": 6,
   "id": "09d2010b",
   "metadata": {},
   "outputs": [
    {
     "name": "stdout",
     "output_type": "stream",
     "text": [
      "[0, 0, 0, 0]\n",
      "[1, 2, 3, 1, 2, 3, 1, 2, 3]\n"
     ]
    }
   ],
   "source": [
    "# the operator * repeats a list a given number of times:\n",
    "print([0] * 4)\n",
    "\n",
    "print([1, 2, 3] * 3)\n"
   ]
  },
  {
   "cell_type": "code",
   "execution_count": 7,
   "id": "70383b37",
   "metadata": {},
   "outputs": [
    {
     "name": "stdout",
     "output_type": "stream",
     "text": [
      "['b', 'c']\n",
      "['a', 'b', 'c', 'd']\n",
      "['d', 'e', 'f']\n"
     ]
    }
   ],
   "source": [
    "#The slice operator also works on lists:\n",
    "t = ['a', 'b', 'c', 'd', 'e', 'f']\n",
    "print(t[1:3]) #left-inclusive notation\n",
    "\n",
    "print(t[:4])\n",
    "\n",
    "print(t[3:])\n"
   ]
  },
  {
   "cell_type": "markdown",
   "id": "7a99a9ec",
   "metadata": {},
   "source": [
    "## List methods"
   ]
  },
  {
   "cell_type": "markdown",
   "id": "4efa5ee3",
   "metadata": {},
   "source": [
    "Most list methods are void; they modify the list and return None. If you accidentally\n",
    "write t = t.sort(), you will be disappointed with the result."
   ]
  },
  {
   "cell_type": "code",
   "execution_count": 8,
   "id": "9c9b29d9",
   "metadata": {},
   "outputs": [
    {
     "name": "stdout",
     "output_type": "stream",
     "text": [
      "['a', 'b', 'c', 'd', 'e']\n"
     ]
    }
   ],
   "source": [
    "t1 = ['a', 'b', 'c']\n",
    "t2 = ['d', 'e']\n",
    "t1.extend(t2)\n",
    "print(t1)\n"
   ]
  },
  {
   "cell_type": "code",
   "execution_count": 9,
   "id": "e8dc9632",
   "metadata": {},
   "outputs": [
    {
     "name": "stdout",
     "output_type": "stream",
     "text": [
      "['a', 'b', 'c', 'd', 'e']\n"
     ]
    }
   ],
   "source": [
    "t = ['d', 'c', 'e', 'b', 'a']\n",
    "t.sort()\n",
    "print(t)"
   ]
  },
  {
   "cell_type": "markdown",
   "id": "deb87b01",
   "metadata": {},
   "source": [
    "## Deleting elements"
   ]
  },
  {
   "cell_type": "code",
   "execution_count": 10,
   "id": "e1db4432",
   "metadata": {},
   "outputs": [
    {
     "name": "stdout",
     "output_type": "stream",
     "text": [
      "['a', 'c']\n",
      "b\n"
     ]
    }
   ],
   "source": [
    "t = ['a', 'b', 'c']\n",
    "x = t.pop(1)\n",
    "print(t)\n",
    "\n",
    "print(x)"
   ]
  },
  {
   "cell_type": "code",
   "execution_count": 12,
   "id": "f355aed3",
   "metadata": {},
   "outputs": [
    {
     "name": "stdout",
     "output_type": "stream",
     "text": [
      "['a', 'c']\n",
      "['a', 'f']\n"
     ]
    }
   ],
   "source": [
    "t = ['a', 'b', 'c']\n",
    "del t[1]\n",
    "print(t)\n",
    "\n",
    "t = ['a', 'b', 'c', 'd', 'e', 'f']\n",
    "del(t[1:5])\n",
    "print(t)"
   ]
  },
  {
   "cell_type": "code",
   "execution_count": 13,
   "id": "a8a63617",
   "metadata": {},
   "outputs": [
    {
     "name": "stdout",
     "output_type": "stream",
     "text": [
      "['a', 'c']\n"
     ]
    }
   ],
   "source": [
    "t = ['a', 'b', 'c']\n",
    "t.remove('b')\n",
    "print(t)"
   ]
  },
  {
   "cell_type": "markdown",
   "id": "3e6b76c4-b357-4a3d-9db3-3b87d2f6ac2e",
   "metadata": {},
   "source": [
    "## Lists and Functions"
   ]
  },
  {
   "cell_type": "markdown",
   "id": "27d54682-580d-42bc-94bd-c0b9f585c8b6",
   "metadata": {},
   "source": [
    "Exercise 1: Write a function called chop that takes a list and modifies it, removing the first\n",
    "and last elements, and returns None.\n",
    "\n",
    "Then write a function called middle that takes a list and returns a new list that\n",
    "contains all but the first and last elements."
   ]
  },
  {
   "cell_type": "code",
   "execution_count": 2,
   "id": "846d71ae-667f-42eb-846a-99a420de0ba6",
   "metadata": {},
   "outputs": [
    {
     "name": "stdout",
     "output_type": "stream",
     "text": [
      "['1', '0.000000', '176.126.243.198', '185.47.63.113', 'TCP', '74', '34515', '→', '19', '[SYN]', 'Seq=0', 'Win=14600', 'Len=0', 'MSS=1460', 'SACK_PERM=1', 'TSval=123439160', 'TSecr=0', 'WS=16']\n",
      "None\n",
      "['0.000000', '176.126.243.198', '185.47.63.113', 'TCP', '74', '34515', '→', '19', '[SYN]', 'Seq=0', 'Win=14600', 'Len=0', 'MSS=1460', 'SACK_PERM=1', 'TSval=123439160', 'TSecr=0']\n",
      "['176.126.243.198', '185.47.63.113', 'TCP', '74', '34515', '→', '19', '[SYN]', 'Seq=0', 'Win=14600', 'Len=0', 'MSS=1460', 'SACK_PERM=1', 'TSval=123439160']\n"
     ]
    }
   ],
   "source": [
    "def chop(l):\n",
    "    del l[len(l)-1]  #uses caller's list reference\n",
    "    del l[0]\n",
    "    \n",
    "def middle(l):\n",
    "    return l[1:-1]     #slice operator creates a new list\n",
    "          \n",
    "words = \"1\t0.000000\t176.126.243.198\t185.47.63.113\tTCP\t74\t34515 → 19 [SYN] Seq=0 Win=14600 Len=0 MSS=1460 SACK_PERM=1 TSval=123439160 TSecr=0 WS=16\"\n",
    "wlist = words.split()\n",
    "print(wlist)\n",
    "\n",
    "print(chop(wlist))\n",
    "\n",
    "print(wlist)\n",
    "\n",
    "print(middle(wlist))"
   ]
  },
  {
   "cell_type": "markdown",
   "id": "a84a3756-f3a1-4106-bcce-aefbd10e267b",
   "metadata": {},
   "source": [
    "Exercise 4: Download a copy of the file from www.py4e.com/code3/romeo.txt\n",
    "\n",
    "Write a program to open the file romeo.txt and read it line by line. For each line,\n",
    "split the line into a list of words using the split function.\n",
    "For each word, check to see if the word is already in a list. If the word is not in\n",
    "the list, add it to the list."
   ]
  },
  {
   "cell_type": "code",
   "execution_count": 39,
   "id": "176d6426-1874-46a4-82eb-727f5e2a131d",
   "metadata": {},
   "outputs": [
    {
     "name": "stdout",
     "output_type": "stream",
     "text": [
      "['But', 'soft', 'what', 'light', 'through', 'yonder', 'window', 'breaks', 'It', 'is', 'the', 'east', 'and', 'Juliet', 'sun', 'Arise', 'fair', 'kill', 'envious', 'moon', 'Who', 'already', 'sick', 'pale', 'with', 'grief']\n"
     ]
    }
   ],
   "source": [
    "fhand = open(\"romeo.txt\")\n",
    "words = list() \n",
    "for line in fhand:\n",
    "    line = line.strip()\n",
    "    line = line.split()\n",
    "    for word in line:\n",
    "        if not word in words:\n",
    "            words.append(word)\n",
    "print(words)\n",
    "\n",
    "\n",
    "        \n",
    "    \n",
    "    \n",
    "    "
   ]
  },
  {
   "cell_type": "code",
   "execution_count": 43,
   "id": "09a38e0d-e8b1-4d9f-b4fe-a39b4ac3473e",
   "metadata": {},
   "outputs": [
    {
     "name": "stdout",
     "output_type": "stream",
     "text": [
      "Debug: ['1', '0.000000', '176.126.243.198', '185.47.63.113', 'TCP', '', '74', '34515 â†’ 19 [SYN] Seq=0 Win=14600 Len=0 MSS=1460 SACK_PERM=1 TSval=123439160 TSecr=0 WS=16\\n']\n",
      "Debug: ['2', '0.000057', '185.47.63.113', '176.126.243.198', 'TCP', '', '74', '19 â†’ 34515 [SYN, ACK] Seq=0 Ack=1 Win=14480 Len=0 MSS=1460 SACK_PERM=1 TSval=493623320 TSecr=123439160 WS=128\\n']\n",
      "Debug: ['3', '0.007157', '176.126.243.198', '185.47.63.113', 'TCP', '', '66', '34515 â†’ 19 [ACK] Seq=1 Ack=1 Win=14608 Len=0 TSval=123439162 TSecr=493623320\\n']\n",
      "Debug: ['4', '0.007228', '176.126.243.198', '185.47.63.113', 'Chargen', '', '70', 'Chargen\\n']\n",
      "Debug: ['5', '0.007243', '185.47.63.113', '176.126.243.198', 'TCP', '', '66', '19 â†’ 34515 [ACK] Seq=1 Ack=5 Win=14592 Len=0 TSval=493623327 TSecr=123439162\\n']\n",
      "Debug: ['6', '0.007260', '176.126.243.198', '185.47.63.113', 'TCP', '', '66', '34515 â†’ 19 [FIN, ACK] Seq=5 Ack=1 Win=14608 Len=0 TSval=123439162 TSecr=493623320\\n']\n",
      "Debug: ['7', '0.022265', '185.47.63.113', '176.126.243.198', 'Chargen', '', '140', 'Chargen\\n']\n",
      "Debug: ['8', '0.022325', '185.47.63.113', '176.126.243.198', 'Chargen', '', '1514', 'Chargen\\n']\n",
      "Debug: ['9', '0.022359', '185.47.63.113', '176.126.243.198', 'Chargen', '', '1514', 'Chargen\\n']\n",
      "Debug: ['10', '0.022390', '185.47.63.113', '176.126.243.198', 'Chargen', '', '1514', 'Chargen\\n']\n",
      "Debug: ['11', '0.022422', '185.47.63.113', '176.126.243.198', 'Chargen', '', '1514', 'Chargen\\n']\n",
      "Debug: ['12', '0.022468', '185.47.63.113', '176.126.243.198', 'Chargen', '', '1514', 'Chargen\\n']\n",
      "Debug: ['13', '0.022500', '185.47.63.113', '176.126.243.198', 'Chargen', '', '1514', 'Chargen\\n']\n",
      "Debug: ['14', '0.022528', '185.47.63.113', '176.126.243.198', 'Chargen', '', '1514', 'Chargen\\n']\n",
      "Debug: ['15', '0.022561', '185.47.63.113', '176.126.243.198', 'Chargen', '', '1514', 'Chargen\\n']\n",
      "Debug: ['16', '0.022613', '185.47.63.113', '176.126.243.198', 'Chargen', '', '1514', 'Chargen\\n']\n",
      "Debug: ['17', '0.029566', '176.126.243.198', '185.47.63.113', 'TCP', '', '60', '34515 â†’ 19 [RST] Seq=6 Win=0 Len=0\\n']\n",
      "Debug: ['18', '0.029598', '176.126.243.198', '185.47.63.113', 'TCP', '', '60', '34515 â†’ 19 [RST] Seq=6 Win=0 Len=0\\n']\n",
      "Debug: ['19', '0.029607', '176.126.243.198', '185.47.63.113', 'TCP', '', '60', '34515 â†’ 19 [RST] Seq=6 Win=0 Len=0\\n']\n",
      "Debug: ['20', '0.029615', '176.126.243.198', '185.47.63.113', 'TCP', '', '60', '34515 â†’ 19 [RST] Seq=6 Win=0 Len=0\\n']\n",
      "Debug: ['21', '0.029619', '176.126.243.198', '185.47.63.113', 'TCP', '', '60', '34515 â†’ 19 [RST] Seq=6 Win=0 Len=0\\n']\n",
      "Debug: ['22', '0.029623', '176.126.243.198', '185.47.63.113', 'TCP', '', '60', '34515 â†’ 19 [RST] Seq=6 Win=0 Len=0']\n"
     ]
    }
   ],
   "source": [
    "try:\n",
    "    fhand = open('pcap.txt')\n",
    "    count = 0\n",
    "    for line in fhand:\n",
    "        line.strip()\n",
    "        line = line.translate(line.maketrans(\"\\t\",\":\",\"\"))\n",
    "        words = line.split(\":\")\n",
    "        if \"185.47.63.113\" in words:\n",
    "            print ('Debug:', words)\n",
    "except Exception as e:\n",
    "    print(e)"
   ]
  },
  {
   "cell_type": "markdown",
   "id": "53285326",
   "metadata": {},
   "source": [
    "## A Tuple is a Sequence Type"
   ]
  },
  {
   "cell_type": "markdown",
   "id": "514630ff",
   "metadata": {},
   "source": [
    "A <b>tuple</b> is a sequence of values much like a list. The values stored in a tuple can\n",
    "be any type, and they are indexed by integers. The important difference is that\n",
    "tuples are immutable.\n",
    "<br>\n",
    "Tuples are also comparable and hashable so we can sort lists\n",
    "of them and use tuples as key values in Python dictionaries.\n",
    "Syntactically, a tuple is a comma-separated list of values:"
   ]
  },
  {
   "cell_type": "code",
   "execution_count": 2,
   "id": "ebb4bd6d",
   "metadata": {},
   "outputs": [
    {
     "name": "stdout",
     "output_type": "stream",
     "text": [
      "('a', 'b', 'c', 'd', 'e')\n",
      "<class 'tuple'>\n",
      "a e\n"
     ]
    }
   ],
   "source": [
    "t = 'a', 'b', 'c', 'd', 'e'\n",
    "t = ('a', 'b', 'c', 'd', 'e') #it is common to enclose tuples in parentheses\n",
    "print(t)\n",
    "print(type(t))\n",
    "print(t[0], t[-1])"
   ]
  },
  {
   "cell_type": "code",
   "execution_count": 5,
   "id": "690f6dd7",
   "metadata": {},
   "outputs": [],
   "source": [
    "t1 = ('a',) #To create a tuple with a single element, you have to include the final comma:"
   ]
  },
  {
   "cell_type": "markdown",
   "id": "8fbd5ff5",
   "metadata": {},
   "source": [
    "## Tuple Assignment"
   ]
  },
  {
   "cell_type": "code",
   "execution_count": 18,
   "id": "c654e810",
   "metadata": {},
   "outputs": [
    {
     "name": "stdout",
     "output_type": "stream",
     "text": [
      "19.95 12 banana\n",
      "banana 12 19.95\n",
      "<class 'tuple'> ('banana',)\n"
     ]
    }
   ],
   "source": [
    "price, quantity , fruit = (19.95, 12, \"banana\")\n",
    "print(price, quantity, fruit)\n",
    "\n",
    "fruit, quantity, price = price,quantity,fruit\n",
    "print(price, quantity, fruit)\n",
    "\n",
    "t = (\"banana\",) #create a single element tuple must have trailing comma\n",
    "print(type(t), t)"
   ]
  },
  {
   "cell_type": "markdown",
   "id": "f823481f-69d8-4cdf-acae-ff8b6cc3b595",
   "metadata": {},
   "source": [
    "If the argument is a sequence (string, list, or tuple), the result of the call to tuple\n",
    "is a tuple with the elements of the sequence:"
   ]
  },
  {
   "cell_type": "code",
   "execution_count": 3,
   "id": "8aa06fbe-b8f3-48bf-9866-15e279e6f42a",
   "metadata": {},
   "outputs": [
    {
     "name": "stdout",
     "output_type": "stream",
     "text": [
      "('h', 'e', 'l', 'l', 'o')\n",
      "('e', 'l')\n",
      "have\n",
      "fun\n",
      "('fun', 'have')\n"
     ]
    }
   ],
   "source": [
    "t = tuple(\"hello\")\n",
    "print(t)\n",
    "\n",
    "l = t[1:3] #slice operator selects a range of elements\n",
    "print (l)\n",
    "\n",
    "m = [\"have\", \"fun\"]\n",
    "(x,y) = m\n",
    "print(x)\n",
    "print(y)\n",
    "\n",
    "m.sort()  #sort elements in list\n",
    "w = tuple(m)\n",
    "print(w)"
   ]
  },
  {
   "cell_type": "markdown",
   "id": "dbb7a5f9-2cda-42b8-bfc0-20577effbfb3",
   "metadata": {},
   "source": [
    "## Comparing Tuples\n",
    "\n",
    "The comparison operators work with tuples and other sequences. Python starts by\n",
    "comparing the first element from each sequence. If they are equal, it goes on to the\n",
    "next element, and so on, until it finds elements that differ. Subsequent elements\n",
    "are not considered (even if they are really big)."
   ]
  },
  {
   "cell_type": "markdown",
   "id": "b93ebe9d-8b4a-40ad-ad59-fe8286b09872",
   "metadata": {},
   "source": [
    "The <b>sort</b> function works the same way. It sorts primarily by first element, but in\n",
    "the case of a tie, it sorts by second element, and so on.\n",
    "This feature lends itself to a pattern called DSU for\n",
    "Decorate a sequence by building a list of tuples with one or more sort keys\n",
    "preceding the elements from the sequence,\n",
    "Sort the list of tuples using the Python built-in sort, and\n",
    "Undecorate by extracting the sorted elements of the sequence.\n",
    "\n",
    "What is the following code snippet doing?"
   ]
  },
  {
   "cell_type": "code",
   "execution_count": 20,
   "id": "32f5143e-9d30-4483-9fd4-b09539880a0d",
   "metadata": {},
   "outputs": [
    {
     "name": "stdout",
     "output_type": "stream",
     "text": [
      "['yonder', 'window', 'breaks', 'light', 'what', 'soft', 'but', 'in']\n"
     ]
    }
   ],
   "source": [
    "txt = 'but soft what light in yonder window breaks'\n",
    "words = txt.split()\n",
    "t = list()\n",
    "for word in words:\n",
    "    t.append((len(word), word))\n",
    "    \n",
    "t.sort(reverse=True)\n",
    "\n",
    "res = list()\n",
    "for length, word in t:\n",
    "    res.append(word)\n",
    "print(res)"
   ]
  },
  {
   "cell_type": "markdown",
   "id": "50578834",
   "metadata": {},
   "source": [
    "## Returning Multiple Values with Tuples"
   ]
  },
  {
   "cell_type": "code",
   "execution_count": 1,
   "id": "8d77bf66",
   "metadata": {},
   "outputs": [
    {
     "name": "stdout",
     "output_type": "stream",
     "text": [
      "Enter a date\n",
      " month: 2\n",
      " day: 1\n",
      " year: 2020\n",
      "<class 'tuple'>\n",
      "(2, 1, 2020)\n",
      "July\n",
      "15\n",
      "2020\n",
      "Enter a date\n",
      " month: 2\n",
      " day: 1\n",
      " year: 2020\n",
      "2/1/2020\n"
     ]
    }
   ],
   "source": [
    "def readDate():\n",
    "    print(\"Enter a date\")\n",
    "    month = int(input(\" month: \"))\n",
    "    day = int(input(\" day: \"))\n",
    "    year = int(input(\" year: \"))\n",
    "    return (month, day, year)\n",
    "\n",
    "date = readDate()\n",
    "print(type(date))\n",
    "print(date)\n",
    "\n",
    "\n",
    "date = (\"July\", \"15\", 2020)\n",
    "for d in date:\n",
    "    print(d)\n",
    "\n",
    "month, day, year = readDate()\n",
    "print(f\"{month}/{day}/{year}\")"
   ]
  },
  {
   "cell_type": "markdown",
   "id": "4263dbe8",
   "metadata": {},
   "source": [
    "Because tuples are hashable and lists are not, if we want to create a composite key\n",
    "to use in a dictionary we must use a tuple as the key.\n",
    "We would encounter a composite key if we wanted to create a telephone directory\n",
    "that maps from last-name, first-name pairs to telephone numbers. Assuming that\n",
    "we have defined the variables last, first, and number, we could write a dictionary\n",
    "assignment statement as follows.\n",
    "The expression in brackets is a tuple. We could use tuple assignment in a for loop\n",
    "to traverse this dictionary."
   ]
  },
  {
   "cell_type": "code",
   "execution_count": 4,
   "id": "c1897dba",
   "metadata": {},
   "outputs": [
    {
     "name": "stdout",
     "output_type": "stream",
     "text": [
      "('970-111-2345', '000-blak-pearl')\n",
      "Jack Sparrow ('970-111-2345', '000-blak-pearl')\n"
     ]
    }
   ],
   "source": [
    "directory = dict()\n",
    "directory[(\"Sparrow\",\"Jack\")] = (\"970-111-2345\", \"000-blak-pearl\")\n",
    "print(directory[\"Sparrow\",\"Jack\"])\n",
    "\n",
    "for last, first in directory:\n",
    "    print(first, last, directory[last,first])"
   ]
  }
 ],
 "metadata": {
  "hide_input": false,
  "kernelspec": {
   "display_name": "Python 3 (ipykernel)",
   "language": "python",
   "name": "python3"
  },
  "language_info": {
   "codemirror_mode": {
    "name": "ipython",
    "version": 3
   },
   "file_extension": ".py",
   "mimetype": "text/x-python",
   "name": "python",
   "nbconvert_exporter": "python",
   "pygments_lexer": "ipython3",
   "version": "3.9.12"
  }
 },
 "nbformat": 4,
 "nbformat_minor": 5
}
