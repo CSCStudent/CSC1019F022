{
 "cells": [
  {
   "cell_type": "markdown",
   "id": "452a1a50-ddc5-4a02-bc75-ecc1a5fb724f",
   "metadata": {},
   "source": [
    "Part of learning the “Art of Python” or “Thinking Pythonically” is realizing that\n",
    "Python often has built-in capabilities for many common data analysis problems.\n",
    "Over time, you will see enough example code and read enough of the documentation\n",
    "to know where to look to see if someone has already written something that makes\n",
    "your job much easier.\n"
   ]
  },
  {
   "cell_type": "markdown",
   "id": "6b99ac91",
   "metadata": {},
   "source": [
    "A <b>dictionary</b> is an unordered associative array that is a mapping between a set of indices (which are\n",
    "called keys) and a set of values. Each key maps to a value.  In a list, the index positions have to\n",
    "be integers but in a dictionary, the indices can be (almost) any type.\n",
    "\n",
    "The association of a key and a value is called a key-value pair or sometimes an item.\n",
    "As an example, we’ll build a dictionary that maps from English to Spanish"
   ]
  },
  {
   "cell_type": "code",
   "execution_count": 2,
   "id": "6a13cca1",
   "metadata": {},
   "outputs": [
    {
     "name": "stdout",
     "output_type": "stream",
     "text": [
      "{'GOOG': (100, 490.1)}\n",
      "(100, 490.1)\n",
      "number of shares: 100 at price 490.10\n",
      "(100, 490.1)\n",
      "(20, 91.5)\n",
      "my portfolio: ['GOOG', 'IBM']\n",
      "my portfolio: {'GOOG': (100, 490.1)}\n"
     ]
    }
   ],
   "source": [
    "#use a constructor to instantiate a dictionary object\n",
    "shares = dict()\n",
    "\n",
    "shares[\"GOOG\"] = (100, 490.10)\n",
    "mystocks = dict(shares)\n",
    "print(mystocks)\n",
    "\n",
    "print(mystocks[\"GOOG\"])\n",
    "\n",
    "numShares, price = shares[\"GOOG\"]\n",
    "print(f\"number of shares: {numShares} at price %.2f\" %price)\n",
    "\n",
    "shares[\"IBM\"] = (20, 91.50)\n",
    "mystocks[\"IBM\"] = shares[\"IBM\"]  #add it to stocks I own\n",
    "\n",
    "for s in mystocks:\n",
    "    print (mystocks[s])\n",
    "    \n",
    "portfolio = list(mystocks)  #dictionary keys as a list\n",
    "print(f\"my portfolio: {portfolio}\")\n",
    "\n",
    "del mystocks[\"IBM\"]\n",
    "print(f\"my portfolio: {mystocks}\")"
   ]
  },
  {
   "cell_type": "code",
   "execution_count": 5,
   "id": "2ef217a3",
   "metadata": {},
   "outputs": [
    {
     "name": "stdout",
     "output_type": "stream",
     "text": [
      "{'b': 1}\n",
      "{'b': 1, 'r': 1}\n",
      "{'b': 1, 'r': 1, 'o': 1}\n",
      "{'b': 1, 'r': 1, 'o': 1, 'n': 1}\n",
      "{'b': 1, 'r': 1, 'o': 1, 'n': 1, 't': 1}\n",
      "{'b': 1, 'r': 1, 'o': 2, 'n': 1, 't': 1}\n",
      "{'b': 1, 'r': 1, 'o': 2, 'n': 1, 't': 1, 's': 1}\n",
      "{'b': 1, 'r': 1, 'o': 2, 'n': 1, 't': 1, 's': 1, 'a': 1}\n",
      "{'b': 1, 'r': 1, 'o': 2, 'n': 1, 't': 1, 's': 1, 'a': 1, 'u': 1}\n",
      "{'b': 1, 'r': 2, 'o': 2, 'n': 1, 't': 1, 's': 1, 'a': 1, 'u': 1}\n",
      "{'b': 1, 'r': 2, 'o': 2, 'n': 1, 't': 1, 's': 1, 'a': 1, 'u': 2}\n",
      "{'b': 1, 'r': 2, 'o': 2, 'n': 1, 't': 1, 's': 2, 'a': 1, 'u': 2}\n",
      "{'b': 1, 'r': 2, 'o': 2, 'n': 1, 't': 1, 's': 2, 'a': 1, 'u': 2}\n"
     ]
    }
   ],
   "source": [
    "word = 'brontosaurus'\n",
    "#key is the letter, value is count\n",
    "d = dict()\n",
    "for c in word:\n",
    "    if c not in d:\n",
    "        d[c] = 1\n",
    "    else:\n",
    "        d[c] = d[c] + 1\n",
    "    print(d)\n",
    "print(d)"
   ]
  },
  {
   "cell_type": "markdown",
   "id": "d913711e-2c64-4fbd-b0a2-48111d0ef788",
   "metadata": {},
   "source": [
    "## Dictionaries with Lists and Tuples\n",
    "\n",
    "Dictionaries have a method called <b>items</b> that returns a list of tuples, where each\n",
    "tuple is a key-value pair\n",
    "\n",
    "As you should expect from a dictionary, the items are in no particular order.\n",
    "However, since the list of tuples is a list, and tuples are comparable, we can now\n",
    "sort the list of tuples. Converting a dictionary to a list of tuples is a way for us to\n",
    "output the contents of a dictionary sorted by key."
   ]
  },
  {
   "cell_type": "code",
   "execution_count": 3,
   "id": "cc3212e6-165a-444d-af2c-45d61b5df8c3",
   "metadata": {},
   "outputs": [
    {
     "name": "stdout",
     "output_type": "stream",
     "text": [
      "{'f': ['a', 'b'], 'a': [1, 2, 3, 4]}\n",
      "<class 'list'>\n",
      "['a', 'f']\n"
     ]
    }
   ],
   "source": [
    "# dictionary value as a list data type\n",
    "d = dict()\n",
    "d[\"f\"] = [\"a\",\"b\"]\n",
    "d[\"a\"] = [1,2,3,4]\n",
    "print(d)\n",
    "\n",
    "l = sorted(d)\n",
    "print(type(l))\n",
    "print(l)"
   ]
  },
  {
   "cell_type": "markdown",
   "id": "83e6147b-220d-4139-9519-a323e303484d",
   "metadata": {},
   "source": [
    "Write a program that parses the romeo.txt file and generates an index of each word found in the file."
   ]
  },
  {
   "cell_type": "code",
   "execution_count": 7,
   "id": "9b78ba6b-2bed-4f0a-97d1-ddcb95360c22",
   "metadata": {},
   "outputs": [
    {
     "name": "stdout",
     "output_type": "stream",
     "text": [
      "{'first': ['a', 'b']}\n",
      "{'first': ['a', 'b', 'c']}\n",
      "Arise [3]\n",
      "But [1]\n",
      "It [2]\n",
      "Juliet [2]\n",
      "Who [4]\n",
      "already [4]\n",
      "and [2, 3, 4]\n",
      "breaks [1]\n",
      "east [2]\n",
      "envious [3]\n",
      "fair [3]\n",
      "grief [4]\n",
      "is [2, 2, 4]\n",
      "kill [3]\n",
      "light [1]\n",
      "moon [3]\n",
      "pale [4]\n",
      "sick [4]\n",
      "soft [1]\n",
      "sun [2, 3]\n",
      "the [2, 2, 3]\n",
      "through [1]\n",
      "what [1]\n",
      "window [1]\n",
      "with [4]\n",
      "yonder [1]\n"
     ]
    }
   ],
   "source": [
    "import string\n",
    "\n",
    "def indexGenerator(fhandle):\n",
    "    d = dict()\n",
    "    lineNum = 1\n",
    "    for line in fhandle:\n",
    "        \n",
    "        # scrub the line\n",
    "        line = line.strip()\n",
    "        line = line.translate(line.maketrans(\"\",\"\",string.punctuation))\n",
    "        \n",
    "        words = line.split()\n",
    "        for word in words:\n",
    "            if word in d:\n",
    "                d[word].append(lineNum)\n",
    "            else:\n",
    "                d[word] = [lineNum]\n",
    "        lineNum += 1\n",
    "    return d\n",
    "\n",
    "# create raw index dictionary\n",
    "fhand = open(\"romeo.txt\")\n",
    "indx = indexGenerator(fhand)\n",
    "\n",
    "# sort in key order\n",
    "l = list(indx.keys())\n",
    "l.sort()\n",
    "for key in l:\n",
    "    print(key, indx[key])\n",
    "fhand.close()\n",
    "\n",
    "        "
   ]
  },
  {
   "cell_type": "code",
   "execution_count": 2,
   "id": "406e5acd-31a2-473f-9eac-77bbd7cedfb7",
   "metadata": {},
   "outputs": [
    {
     "name": "stdout",
     "output_type": "stream",
     "text": [
      "[('c', 10), ('b', 1), ('a', 22)]\n",
      "[('a', 22), ('b', 1), ('c', 10)]\n"
     ]
    }
   ],
   "source": [
    "d = {'c':10, 'b':1, 'a':22}\n",
    "t = list(d.items())\n",
    "print(t)\n",
    "\n",
    "t.sort()\n",
    "print(t)"
   ]
  },
  {
   "cell_type": "markdown",
   "id": "72f2d5bd-31f3-4ec5-bdd8-cd2816f17be6",
   "metadata": {},
   "source": [
    "## Multiple assignment with dictionaries\n",
    "\n",
    "Combining items, tuple assignment, and for, you can see a nice code pattern for\n",
    "traversing the keys and values of a dictionary in a single loop"
   ]
  },
  {
   "cell_type": "code",
   "execution_count": 3,
   "id": "ce669497-04a0-46c1-ac1c-318890caf508",
   "metadata": {},
   "outputs": [
    {
     "name": "stdout",
     "output_type": "stream",
     "text": [
      "10 c\n",
      "1 b\n",
      "22 a\n"
     ]
    }
   ],
   "source": [
    "d = {'c':10, 'b':1, 'a':22}\n",
    "for key, val in list(d.items()):\n",
    "    print(val, key)"
   ]
  },
  {
   "cell_type": "markdown",
   "id": "aad7187f-ac6b-4337-a170-79aa1e46f99a",
   "metadata": {},
   "source": [
    "## The most common words\n",
    "\n",
    "We can augment our program to use this technique to print the ten most\n",
    "common words in a text file."
   ]
  },
  {
   "cell_type": "code",
   "execution_count": 6,
   "id": "09c15c45-1cc2-4108-8358-f86429c57832",
   "metadata": {},
   "outputs": [
    {
     "name": "stdout",
     "output_type": "stream",
     "text": [
      "61 i\n",
      "42 and\n",
      "40 romeo\n",
      "34 to\n",
      "34 the\n",
      "32 thou\n",
      "32 juliet\n",
      "30 that\n",
      "29 my\n",
      "24 thee\n"
     ]
    }
   ],
   "source": [
    "import string\n",
    "fhand = open('romeo-full.txt')\n",
    "counts = dict()\n",
    "for line in fhand:\n",
    "    line = line.translate(str.maketrans('', '', string.punctuation))\n",
    "    line = line.lower()\n",
    "    words = line.split()\n",
    "    for word in words:\n",
    "        if word not in counts:\n",
    "            counts[word] = 1\n",
    "        else:\n",
    "            counts[word] += 1\n",
    "        \n",
    "# Sort the dictionary by value\n",
    "lst = list()\n",
    "for key, val in list(counts.items()):\n",
    "    lst.append((val, key))\n",
    "lst.sort(reverse=True)\n",
    "\n",
    "for key, val in lst[:10]:\n",
    "    print(key, val)"
   ]
  },
  {
   "cell_type": "markdown",
   "id": "e27c8099-10a0-481b-9e26-a3d25bb49db8",
   "metadata": {},
   "source": [
    "## Sequences: strings, lists, and tuples\n",
    "\n",
    "Mutable objects support additional operations that allow in-place modification of the object. Strings and tuples are immutable sequence types: such objects cannot be modified once created. The following operations are defined on mutable sequence types (where x is an arbitrary object):\n",
    "\n",
    "https://docs.python.org/2/library/stdtypes.html#mutable-sequence-types\n",
    "\n",
    "In many contexts, the different kinds of sequences (strings, lists, and tuples) can\n",
    "be used interchangeably. So how and why do you choose one over the others?\n",
    "To start with the obvious, strings are more limited than other sequences because\n",
    "the elements have to be characters. They are also immutable. If you need the\n",
    "ability to change the characters in a string (as opposed to creating a new string),\n",
    "you might want to use a list of characters instead.\n",
    "Lists are more common than tuples, mostly because they are mutable. But there\n",
    "are a few cases where you might prefer tuples:\n",
    "\n",
    "1. In some contexts, like a return statement, it is syntactically simpler to create\n",
    "a tuple than a list. In other contexts, you might prefer a list.\n",
    "2. If you want to use a sequence as a dictionary key, you have to use an immutable\n",
    "type like a tuple or string.\n",
    "3. If you are passing a sequence as an argument to a function, using tuples\n",
    "reduces the potential for unexpected behavior due to aliasing.\n",
    "\n",
    "Because tuples are immutable, they don’t provide methods like sort and reverse,\n",
    "which modify existing lists. However Python provides the built-in functions sorted\n",
    "and reversed, which take any sequence as a parameter and return a new sequence\n",
    "with the same elements in a different order.\n",
    "\n",
    "https://docs.python.org/3/howto/sorting.html"
   ]
  },
  {
   "cell_type": "code",
   "execution_count": 1,
   "id": "b20b1330-a641-4035-a69e-f480380865c5",
   "metadata": {},
   "outputs": [
    {
     "name": "stdout",
     "output_type": "stream",
     "text": [
      "61 i\n",
      "42 and\n",
      "40 romeo\n",
      "34 to\n",
      "34 the\n",
      "32 thou\n",
      "32 juliet\n",
      "30 that\n",
      "29 my\n",
      "24 thee\n"
     ]
    }
   ],
   "source": [
    "import string\n",
    "fhand = open('romeo-full.txt')\n",
    "counts = dict()\n",
    "for line in fhand:\n",
    "    line = line.translate(str.maketrans('', '', string.punctuation))\n",
    "    line = line.lower()\n",
    "    words = line.split()\n",
    "    for word in words:\n",
    "        if word not in counts:\n",
    "            counts[word] = 1\n",
    "        else:\n",
    "            counts[word] += 1\n",
    "\n",
    "# Sort the dictionary by value\n",
    "lst = list()\n",
    "for key, val in list(counts.items()):\n",
    "    lst.append((val, key))\n",
    "\n",
    "lst.sort(reverse=True)\n",
    "\n",
    "for key, val in lst[:10]:\n",
    "    print(key, val)\n"
   ]
  }
 ],
 "metadata": {
  "hide_input": false,
  "kernelspec": {
   "display_name": "Python 3 (ipykernel)",
   "language": "python",
   "name": "python3"
  },
  "language_info": {
   "codemirror_mode": {
    "name": "ipython",
    "version": 3
   },
   "file_extension": ".py",
   "mimetype": "text/x-python",
   "name": "python",
   "nbconvert_exporter": "python",
   "pygments_lexer": "ipython3",
   "version": "3.9.12"
  }
 },
 "nbformat": 4,
 "nbformat_minor": 5
}
