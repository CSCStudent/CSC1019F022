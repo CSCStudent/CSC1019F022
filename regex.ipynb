{
 "cells": [
  {
   "cell_type": "code",
   "execution_count": 6,
   "id": "ef2e13bc-665a-4bc7-b520-38a583882dbd",
   "metadata": {},
   "outputs": [
    {
     "name": "stdout",
     "output_type": "stream",
     "text": [
      "['From: Using the :']\n"
     ]
    }
   ],
   "source": [
    "#greedy vs non-greedy\n",
    "import re\n",
    "\n",
    "x = 'From: Using the : character'\n",
    "\n",
    "y = re.findall('^F.+:', x)\n",
    "\n",
    "print(y)"
   ]
  },
  {
   "cell_type": "markdown",
   "id": "1c360631-5ca1-4803-a614-49f94c22345b",
   "metadata": {},
   "source": [
    "## Extracting dats using regular expressions"
   ]
  },
  {
   "cell_type": "markdown",
   "id": "42c2fff1-0814-4629-a7fe-93a684e6a7a3",
   "metadata": {},
   "source": [
    "We don’t want to write code for each of the types of lines, splitting and slicing\n",
    "differently for each line. This following program uses findall() to find the lines\n",
    "with email addresses in them and extract one or more addresses from each of those\n",
    "lines."
   ]
  },
  {
   "cell_type": "code",
   "execution_count": 7,
   "id": "f8821abe-db52-4391-8ba0-593c75d53616",
   "metadata": {},
   "outputs": [
    {
     "name": "stdout",
     "output_type": "stream",
     "text": [
      "['csev@umich.edu', 'cwen@iupui.edu']\n"
     ]
    }
   ],
   "source": [
    "import re\n",
    "s = 'A message from csev@umich.edu to cwen@iupui.edu about meeting @2PM'\n",
    "lst = re.findall('\\S+@\\S+', s)\n",
    "print(lst)\n"
   ]
  },
  {
   "cell_type": "code",
   "execution_count": null,
   "id": "614167bc-7d87-4360-87b2-d9f0332babc2",
   "metadata": {},
   "outputs": [],
   "source": [
    "\"\"\"\n",
    "Uses the module re methods and regular expressions\n",
    "Search for lines that contain 'From'\n",
    "\n",
    "type(re) #<class 'module'>\n",
    "\"\"\"\n",
    "\n",
    "import re\n",
    "import unittest\n",
    "import doctest\n",
    "\n",
    "def main():\n",
    "\n",
    "    hand = open('mbox-short.txt')\n",
    "    # text = [\"From: stephen.marquard@uct.ac.za\", \n",
    "            # \"Message-ID: <200801051412.m05ECIaH010327@nakamura.uits.iupui.edu>\" ]\n",
    "    for line in hand:\n",
    "        line = line.rstrip()\n",
    "        if re.search('From:', line):  #matches string only at beginning of line\n",
    "            print(line)\n",
    "\n",
    "if __name__ == '__main__':\n",
    "    main()\n",
    "\n",
    "class TestRE01(unittest.TestCase):\n",
    "    def test_printdocstring(self):\n",
    "        print(__doc__)\n",
    "    def test_myself(self):\n",
    "        doctest.testmod()"
   ]
  }
 ],
 "metadata": {
  "kernelspec": {
   "display_name": "Python 3 (ipykernel)",
   "language": "python",
   "name": "python3"
  },
  "language_info": {
   "codemirror_mode": {
    "name": "ipython",
    "version": 3
   },
   "file_extension": ".py",
   "mimetype": "text/x-python",
   "name": "python",
   "nbconvert_exporter": "python",
   "pygments_lexer": "ipython3",
   "version": "3.9.12"
  }
 },
 "nbformat": 4,
 "nbformat_minor": 5
}
