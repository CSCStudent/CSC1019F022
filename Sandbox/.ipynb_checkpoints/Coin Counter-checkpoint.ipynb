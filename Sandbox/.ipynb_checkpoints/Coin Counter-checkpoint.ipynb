{
 "cells": [
  {
   "cell_type": "code",
   "execution_count": null,
   "id": "e7bd5a90",
   "metadata": {},
   "outputs": [],
   "source": [
    "#define calculations for \"cents\"\n",
    "def cents(dollars, pennies):\n",
    "   #calculate number of quarters\n",
    "    quarters = (pennies // 25)\n",
    "    pennies = pennies % 25 #only utilize remaimaning pennies\n",
    "    \n",
    "    #calculate number of dimes\n",
    "    dimes = pennies // 10\n",
    "    pennies = pennies % 10\n",
    "    \n",
    "    #calculate number of nickels\n",
    "    nickels = pennies // 5\n",
    "    pennies = pennies % 5\n",
    "    \n",
    "    #define value of any remaining pennies\n",
    "    pennies = pennies\n",
    "    \n",
    "    #display calculations\n",
    "    print(\"Number of Dollar Bills:\",dollars)\n",
    "    print(\"Number of Quarters:\",quarters)\n",
    "    print(\"Number of Dimes:\",dimes)\n",
    "    print(\"Number of Nickels:\",nickels)\n",
    "    print(\"Number of Pennies:\",pennies)\n",
    "   \n",
    " #ask for number of pennies\n",
    "pennies = int(input(\"Enter number of pennies \"))\n",
    "\n",
    "#calculate dollars\n",
    "dollars = (pennies // 100)\n",
    "#the % operator reset pennies to 0, resets value of pennies without redefining dollars\n",
    "if dollars > 0:\n",
    "    pennies = pennies - (dollars * 100)\n",
    "#calculte remaining pennies under 100\n",
    "cents(dollars, pennies)"
   ]
  },
  {
   "cell_type": "code",
   "execution_count": null,
   "id": "49964f77",
   "metadata": {},
   "outputs": [],
   "source": []
  }
 ],
 "metadata": {
  "kernelspec": {
   "display_name": "Python 3 (ipykernel)",
   "language": "python",
   "name": "python3"
  },
  "language_info": {
   "codemirror_mode": {
    "name": "ipython",
    "version": 3
   },
   "file_extension": ".py",
   "mimetype": "text/x-python",
   "name": "python",
   "nbconvert_exporter": "python",
   "pygments_lexer": "ipython3",
   "version": "3.9.12"
  }
 },
 "nbformat": 4,
 "nbformat_minor": 5
}
