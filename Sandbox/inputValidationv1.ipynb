{
 "cells": [
  {
   "cell_type": "code",
   "execution_count": null,
   "id": "3ce05db3",
   "metadata": {
    "collapsed": true,
    "jupyter": {
     "outputs_hidden": true
    }
   },
   "outputs": [],
   "source": [
    "num1 = \"123ab4\"\n",
    "\n",
    "for letter in num1:\n",
    "    if letter >= '0' and letter <= '9':\n",
    "        print(\"numeric input: \" + letter)\n",
    "    else:\n",
    "        print(\"non-numeric input: \" + letter)"
   ]
  },
  {
   "cell_type": "code",
   "execution_count": 29,
   "id": "635d1059-d97d-4b56-951b-fcf0c60f603c",
   "metadata": {
    "tags": []
   },
   "outputs": [
    {
     "name": "stdin",
     "output_type": "stream",
     "text": [
      "enter first number:  3\n",
      "enter second number:  5\n",
      "enter operation:  *\n"
     ]
    },
    {
     "name": "stdout",
     "output_type": "stream",
     "text": [
      "15\n"
     ]
    },
    {
     "name": "stdin",
     "output_type": "stream",
     "text": [
      "enter first number:  \n",
      "enter second number:  \n",
      "enter operation:  \n"
     ]
    },
    {
     "name": "stdout",
     "output_type": "stream",
     "text": [
      "Input error detected:  please enter complete expression\n"
     ]
    }
   ],
   "source": [
    "# parsing postfix expression\n",
    "def validateInput(number1, number2, opr):\n",
    "    #check that user has entered three valid components\n",
    "    try:\n",
    "        validOps = ['+', '-', '*', '/', \"//\"]\n",
    "        #check for complete set of input\n",
    "        if(not number1 or not number2 or not opr):\n",
    "            raise RuntimeError(\"please enter complete expression\")\n",
    "        elif not opr in validOps:\n",
    "            raise RuntimeError(\"only supported operations are: \" + str(validOps))\n",
    "        else:\n",
    "            try:\n",
    "                #check that the number components are valid?\n",
    "                #if not, generate an exception\n",
    "                num1val = int(number1)\n",
    "                num2val = int(number2) \n",
    "            except:\n",
    "                raise RuntimeError(\"numbers must be integers\")\n",
    "    except RuntimeError as e:\n",
    "        raise e\n",
    "\n",
    "def main():\n",
    "    try:\n",
    "        while True:\n",
    "            num1 = input(\"enter first number: \")\n",
    "            num2 = input(\"enter second number: \")\n",
    "            oper = input(\"enter operation: \")\n",
    "            validateInput(num1, num2, oper)\n",
    "\n",
    "            print(eval(num1+oper+num2))\n",
    "    except RuntimeError as e:\n",
    "        print(\"Input error detected: \", e)\n",
    "\n",
    "main()\n",
    "    "
   ]
  }
 ],
 "metadata": {
  "hide_input": false,
  "kernelspec": {
   "display_name": "Python 3 (ipykernel)",
   "language": "python",
   "name": "python3"
  },
  "language_info": {
   "codemirror_mode": {
    "name": "ipython",
    "version": 3
   },
   "file_extension": ".py",
   "mimetype": "text/x-python",
   "name": "python",
   "nbconvert_exporter": "python",
   "pygments_lexer": "ipython3",
   "version": "3.9.12"
  }
 },
 "nbformat": 4,
 "nbformat_minor": 5
}
