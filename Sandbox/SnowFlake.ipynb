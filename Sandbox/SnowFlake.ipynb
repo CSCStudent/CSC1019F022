{
 "cells": [
  {
   "cell_type": "code",
   "execution_count": 1,
   "id": "fd76bc67-3a15-4b1f-af5d-490cc9fae754",
   "metadata": {},
   "outputs": [],
   "source": [
    "#Snowflake Challenge - www.101computing.net/let-it-snow-challenge/\n",
    "import turtle\n",
    "\n",
    "myPen = turtle.Turtle()\n",
    "myPen.shape(\"turtle\")\n",
    "myPen.speed(500)\n",
    "myPen.pensize(2)\n",
    "\n",
    "myPen.color(\"#0033FF\")\n",
    "myPen.left(90)\n",
    "\n",
    "for i in range(0,6):\n",
    "  myPen.forward(100)\n",
    "  myPen.forward(-40)\n",
    "  myPen.left(40)\n",
    "  myPen.forward(30)\n",
    "  myPen.forward(-30)\n",
    "  myPen.right(80)\n",
    "  myPen.forward(30)\n",
    "  myPen.forward(-30)\n",
    "  myPen.left(40)\n",
    "  myPen.forward(-60)\n",
    "  myPen.right(60)\n",
    "      \n",
    "\n",
    "\n",
    "\n",
    "\n"
   ]
  }
 ],
 "metadata": {
  "kernelspec": {
   "display_name": "Python 3 (ipykernel)",
   "language": "python",
   "name": "python3"
  },
  "language_info": {
   "codemirror_mode": {
    "name": "ipython",
    "version": 3
   },
   "file_extension": ".py",
   "mimetype": "text/x-python",
   "name": "python",
   "nbconvert_exporter": "python",
   "pygments_lexer": "ipython3",
   "version": "3.9.12"
  }
 },
 "nbformat": 4,
 "nbformat_minor": 5
}
