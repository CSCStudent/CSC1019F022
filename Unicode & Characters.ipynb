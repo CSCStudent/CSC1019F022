{
 "cells": [
  {
   "cell_type": "markdown",
   "id": "8703aaae-1884-4755-89f6-d161161fa6bc",
   "metadata": {},
   "source": [
    "## The String Module"
   ]
  },
  {
   "cell_type": "markdown",
   "id": "d2ee91ae-8897-4134-96b3-e0bc7f0ba269",
   "metadata": {},
   "source": [
    "Python’s string module is a convenient one-stop-shop for string constants that fall in ASCII’s character set.\n",
    "\n",
    "Here’s the core of the module in all its glory:"
   ]
  },
  {
   "cell_type": "code",
   "execution_count": null,
   "id": "73f51152-5b79-4c4c-b220-e7e308ad96f1",
   "metadata": {},
   "outputs": [],
   "source": [
    "# From lib/python3.7/string.py\n",
    "\n",
    "whitespace = ' \\t\\n\\r\\v\\f'\n",
    "ascii_lowercase = 'abcdefghijklmnopqrstuvwxyz'\n",
    "ascii_uppercase = 'ABCDEFGHIJKLMNOPQRSTUVWXYZ'\n",
    "ascii_letters = ascii_lowercase + ascii_uppercase\n",
    "digits = '0123456789'\n",
    "hexdigits = digits + 'abcdef' + 'ABCDEF'\n",
    "octdigits = '01234567'\n",
    "punctuation = r\"\"\"!\"#$%&'()*+,-./:;<=>?@[\\]^_`{|}~\"\"\"\n",
    "printable = digits + ascii_letters + punctuation + whitespace\n"
   ]
  },
  {
   "cell_type": "code",
   "execution_count": 1,
   "id": "76d66ce6-8c4a-41cf-802d-ba1f528c8b04",
   "metadata": {},
   "outputs": [
    {
     "name": "stdout",
     "output_type": "stream",
     "text": [
      "What's wrong with ASCII?!?!?\n"
     ]
    }
   ],
   "source": [
    "import string\n",
    "\n",
    "s = \"What's wrong with ASCII?!?!?\"\n",
    "s.rstrip(string.punctuation)\n",
    "print(s)"
   ]
  },
  {
   "cell_type": "code",
   "execution_count": 11,
   "id": "f2f9fb7d-3756-460b-99e7-8c46f5b69f5d",
   "metadata": {},
   "outputs": [
    {
     "name": "stdout",
     "output_type": "stream",
     "text": [
      "01100010 01101001 01110100 01110011\n"
     ]
    }
   ],
   "source": [
    "def make_bitseq(s: str) -> str:\n",
    "    if not s.isascii():\n",
    "        raise ValueError(\"ASCII only allowed\")\n",
    "    return \" \".join(f\"{ord(i):08b}\" for i in s)\n",
    "\n",
    "make_bitseq(\"bits\")\n",
    "\n",
    "\n",
    "make_bitseq(\"CAPS\")\n",
    "\n",
    "\n",
    "make_bitseq(\"$25.43\")\n",
    "\n",
    "\n",
    "make_bitseq(\"~5\")\n",
    "\n",
    "print(make_bitseq(\"bits\"))\n"
   ]
  },
  {
   "cell_type": "markdown",
   "id": "a1f622cc-8d88-432f-95f3-2d5021145dac",
   "metadata": {},
   "source": [
    "There’s a critically important formula that’s related to the definition of a bit. Given a number of bits, n, the number of distinct possible values that can be represented in n bits is 2n:"
   ]
  },
  {
   "cell_type": "code",
   "execution_count": 9,
   "id": "593a03a2-83f3-4b98-9887-84d056c07602",
   "metadata": {},
   "outputs": [
    {
     "name": "stdout",
     "output_type": "stream",
     "text": [
      "65536\n",
      "number of bits required for 256 is  8\n"
     ]
    }
   ],
   "source": [
    "from math import ceil, log\n",
    "\n",
    "def n_bits_required(nvalues: int) -> int:\n",
    "    return ceil(log(nvalues) / log(2))\n",
    "\n",
    "def n_possible_values(nbits: int) -> int:\n",
    "    return 2 ** nbits\n",
    "\n",
    "print(n_possible_values(16))\n",
    "print(f\"number of bits required for 256 is  {n_bits_required(256)}\")\n"
   ]
  },
  {
   "cell_type": "code",
   "execution_count": 14,
   "id": "0d519c9d-6bf7-4121-b089-35ec3f2a62cb",
   "metadata": {},
   "outputs": [
    {
     "name": "stdout",
     "output_type": "stream",
     "text": [
      "17\n"
     ]
    }
   ],
   "source": [
    "int('11')\n",
    "\n",
    "int('11', base=10)  # 10 is already default\n",
    "\n",
    "int('11', base=2)  # Binary\n",
    "\n",
    "int('11', base=8)  # Octal\n",
    "\n",
    "print(int('11', base=16))  # Hex\n"
   ]
  },
  {
   "cell_type": "code",
   "execution_count": 15,
   "id": "fe99c260-4372-47e0-8f0a-c25c2ff1b471",
   "metadata": {},
   "outputs": [
    {
     "data": {
      "text/plain": [
       "17"
      ]
     },
     "execution_count": 15,
     "metadata": {},
     "output_type": "execute_result"
    }
   ],
   "source": [
    "11\n",
    "\n",
    "0b11  # Binary literal\n",
    "\n",
    "0o11  # Octal literal\n",
    "\n",
    "0x11  # Hex literal"
   ]
  },
  {
   "cell_type": "markdown",
   "id": "66bd37af-9a56-4151-9446-b568f9484c2b",
   "metadata": {},
   "source": [
    "## Encoding and decoding in Python"
   ]
  },
  {
   "cell_type": "markdown",
   "id": "c08e1ff3-1b46-42f6-a0a8-accf7506dd62",
   "metadata": {},
   "source": [
    "Unicode fundamentally serves the same purpose as ASCII, but it just encompasses a way, way, way bigger set of code points. There are a handful of encodings that emerged chronologically between ASCII and Unicode, but they are not really worth mentioning just yet because Unicode and one of its encoding schemes, UTF-8, has become so predominantly used.\n",
    "\n",
    "UTF-8 as well as its lesser-used cousins, UTF-16 and UTF-32, are encoding formats for representing Unicode characters as binary data of one or more bytes per character.  A crucial feature is that UTF-8 is a variable-length encoding. \n",
    "\n",
    "<ul>\n",
    "<li>\n",
    "Python 3 source code is assumed to be UTF-8 by default. This means that you don’t need # -*- coding: UTF-8 -*- at the top of .py files in Python 3.\n",
    "<li>\n",
    "All text (str) is Unicode by default. Encoded Unicode text is represented as binary data (bytes). The str type can contain any literal Unicode character, such as \"Δv / Δt\", all of which will be stored as Unicode.\n",
    "<li>\n",
    "Python 3 accepts many Unicode code points in identifiers, meaning résumé = \"~/Documents/resume.pdf\" is valid if this strikes your fancy.\n",
    "<li>\n",
    "Python’s re module defaults to the re.UNICODE flag rather than re.ASCII. This means, for instance, that r\"\\w\" matches Unicode word characters, not just ASCII letters.\n",
    "<li>\n",
    "The default encoding in str.encode() and bytes.decode() is UTF-8.\n",
    "</ul>\n"
   ]
  },
  {
   "cell_type": "markdown",
   "id": "d3ffd302-3574-42ff-b504-fd898a138f38",
   "metadata": {},
   "source": [
    "Python 3’s <b>str</b> type is meant to represent human-readable text and can contain any Unicode character.\n",
    "\n",
    "The bytes type, conversely, represents binary data, or sequences of raw bytes, that do not intrinsically have an encoding attached to it.\n",
    "\n",
    "Encoding and decoding is the process of going from one to the other.  In .encode() and .decode(), the encoding parameter is \"utf-8\" by default, though it’s generally safer and more unambiguous to specify it."
   ]
  },
  {
   "attachments": {
    "093bf388-6011-46c2-8e8d-8109cd12fbd6.png": {
     "image/png": "[encoded data removed]"
    }
   },
   "cell_type": "markdown",
   "id": "813cb166-c6b8-41ea-98f8-816b832d0f1b",
   "metadata": {},
   "source": [
    "![image.png](attachment:093bf388-6011-46c2-8e8d-8109cd12fbd6.png)"
   ]
  },
  {
   "cell_type": "code",
   "execution_count": 29,
   "id": "b1c7af69-0182-448e-afec-0e9071a0e21c",
   "metadata": {},
   "outputs": [
    {
     "name": "stdout",
     "output_type": "stream",
     "text": [
      "b'ci\\xc3\\xa0o'\n",
      "ciào\n"
     ]
    }
   ],
   "source": [
    "# ALT-0-224 for the à character\n",
    "print(\"ciào\".encode())  #utf-8 is default\n",
    "\n",
    "print(b'ci\\xc3\\xa0o'.decode())\n"
   ]
  }
 ],
 "metadata": {
  "kernelspec": {
   "display_name": "Python 3 (ipykernel)",
   "language": "python",
   "name": "python3"
  },
  "language_info": {
   "codemirror_mode": {
    "name": "ipython",
    "version": 3
   },
   "file_extension": ".py",
   "mimetype": "text/x-python",
   "name": "python",
   "nbconvert_exporter": "python",
   "pygments_lexer": "ipython3",
   "version": "3.9.7"
  }
 },
 "nbformat": 4,
 "nbformat_minor": 5
}
